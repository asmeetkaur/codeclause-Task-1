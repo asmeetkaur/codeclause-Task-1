{
 "cells": [
  {
   "cell_type": "code",
   "execution_count": 1,
   "id": "81be8cb0",
   "metadata": {},
   "outputs": [],
   "source": [
    "import os"
   ]
  },
  {
   "cell_type": "code",
   "execution_count": 2,
   "id": "38eca144",
   "metadata": {},
   "outputs": [],
   "source": [
    "def display_menu():\n",
    "    print(\"1. Read File\")\n",
    "    print(\"2. Write to File\")\n",
    "    print(\"3. Edit File\")\n",
    "    print(\"4. Delete File\")\n",
    "    print(\"5. Quit\")"
   ]
  },
  {
   "cell_type": "code",
   "execution_count": 3,
   "id": "be84f905",
   "metadata": {},
   "outputs": [],
   "source": [
    "def read_file():\n",
    "    file_name = input(\"Enter the file name to read: \")\n",
    "    try:\n",
    "        with open(file_name, 'r') as file:\n",
    "            content = file.read()\n",
    "            print(\"\\nFile Content:\")\n",
    "            print(content)\n",
    "    except FileNotFoundError:\n",
    "        print(f\"Error: File '{file_name}' not found.\")"
   ]
  },
  {
   "cell_type": "code",
   "execution_count": 4,
   "id": "0d5ff672",
   "metadata": {},
   "outputs": [],
   "source": [
    "def write_to_file():\n",
    "    file_name = input(\"Enter the file name to write to: \")\n",
    "    content = input(\"Enter the text to write to the file: \")\n",
    "    with open(file_name, 'w') as file:\n",
    "        file.write(content)\n",
    "        print(f\"\\nContent successfully written to '{file_name}'.\")"
   ]
  },
  {
   "cell_type": "code",
   "execution_count": 5,
   "id": "c8277ea2",
   "metadata": {},
   "outputs": [],
   "source": [
    "def edit_file():\n",
    "    file_name = input(\"Enter the file name to edit: \")\n",
    "    try:\n",
    "        with open(file_name, 'r') as file:\n",
    "            current_content = file.read()\n",
    "            print(\"\\nCurrent File Content:\")\n",
    "            print(current_content)\n",
    "\n",
    "            new_content = input(\"\\nEnter the new content: \")\n",
    "            with open(file_name, 'w') as file:\n",
    "                file.write(new_content)\n",
    "                print(f\"\\nContent successfully edited in '{file_name}'.\")\n",
    "    except FileNotFoundError:\n",
    "        print(f\"Error: File '{file_name}' not found.\")"
   ]
  },
  {
   "cell_type": "code",
   "execution_count": 6,
   "id": "3b5f3160",
   "metadata": {},
   "outputs": [],
   "source": [
    "def delete_file():\n",
    "    file_name = input(\"Enter the file name to delete: \")\n",
    "    try:\n",
    "        os.remove(file_name)\n",
    "        print(f\"\\nFile '{file_name}' deleted successfully.\")\n",
    "    except FileNotFoundError:\n",
    "        print(f\"Error: File '{file_name}' not found.\")"
   ]
  },
  {
   "cell_type": "code",
   "execution_count": 7,
   "id": "77459b1d",
   "metadata": {},
   "outputs": [],
   "source": [
    "def main():\n",
    "    while True:\n",
    "        display_menu()\n",
    "        choice = input(\"Enter your choice (1-5): \")\n",
    "\n",
    "        if choice == '1':\n",
    "            read_file()\n",
    "        elif choice == '2':\n",
    "            write_to_file()\n",
    "        elif choice == '3':\n",
    "            edit_file()\n",
    "        elif choice == '4':\n",
    "            delete_file()\n",
    "        elif choice == '5':\n",
    "            print(\"Exiting the Text Editor.\")\n",
    "            break\n",
    "        else:\n",
    "            print(\"Invalid choice. Please enter a valid option.\")"
   ]
  },
  {
   "cell_type": "code",
   "execution_count": 8,
   "id": "c397a1cb",
   "metadata": {},
   "outputs": [
    {
     "name": "stdout",
     "output_type": "stream",
     "text": [
      "1. Read File\n",
      "2. Write to File\n",
      "3. Edit File\n",
      "4. Delete File\n",
      "5. Quit\n",
      "Enter your choice (1-5): 2\n",
      "Enter the file name to write to: txt\n",
      "Enter the text to write to the file: Hello world! \n",
      "\n",
      "Content successfully written to 'txt'.\n",
      "1. Read File\n",
      "2. Write to File\n",
      "3. Edit File\n",
      "4. Delete File\n",
      "5. Quit\n",
      "Enter your choice (1-5): 1\n",
      "Enter the file name to read: txt\n",
      "\n",
      "File Content:\n",
      "Hello world! \n",
      "1. Read File\n",
      "2. Write to File\n",
      "3. Edit File\n",
      "4. Delete File\n",
      "5. Quit\n",
      "Enter your choice (1-5): 3\n",
      "Enter the file name to edit: txt\n",
      "\n",
      "Current File Content:\n",
      "Hello world! \n",
      "\n",
      "Enter the new content: Good Morning Friends!\n",
      "\n",
      "Content successfully edited in 'txt'.\n",
      "1. Read File\n",
      "2. Write to File\n",
      "3. Edit File\n",
      "4. Delete File\n",
      "5. Quit\n",
      "Enter your choice (1-5): 1\n",
      "Enter the file name to read: txt\n",
      "\n",
      "File Content:\n",
      "Good Morning Friends!\n",
      "1. Read File\n",
      "2. Write to File\n",
      "3. Edit File\n",
      "4. Delete File\n",
      "5. Quit\n",
      "Enter your choice (1-5): 4\n",
      "Enter the file name to delete: txt\n",
      "\n",
      "File 'txt' deleted successfully.\n",
      "1. Read File\n",
      "2. Write to File\n",
      "3. Edit File\n",
      "4. Delete File\n",
      "5. Quit\n",
      "Enter your choice (1-5): 5\n",
      "Exiting the Text Editor.\n"
     ]
    }
   ],
   "source": [
    " main()"
   ]
  },
  {
   "cell_type": "code",
   "execution_count": null,
   "id": "32fdf07d",
   "metadata": {},
   "outputs": [],
   "source": []
  }
 ],
 "metadata": {
  "kernelspec": {
   "display_name": "Python 3 (ipykernel)",
   "language": "python",
   "name": "python3"
  },
  "language_info": {
   "codemirror_mode": {
    "name": "ipython",
    "version": 3
   },
   "file_extension": ".py",
   "mimetype": "text/x-python",
   "name": "python",
   "nbconvert_exporter": "python",
   "pygments_lexer": "ipython3",
   "version": "3.11.5"
  }
 },
 "nbformat": 4,
 "nbformat_minor": 5
}
